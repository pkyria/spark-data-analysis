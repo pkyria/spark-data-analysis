{
 "cells": [
  {
   "cell_type": "markdown",
   "id": "02b0ceec",
   "metadata": {},
   "source": [
    "# Spark - Dataset Analysis"
   ]
  },
  {
   "cell_type": "markdown",
   "id": "b07e7e01",
   "metadata": {},
   "source": [
    "## Task 1 - Citation posts analysis\n",
    "\n",
    "You are given the `techcrunch_posts.csv` input file. It is a Comma Separated Values (CSV) file that contains blog posts that have been crawled from the Techcrunch blog community at 2010. Each row represents a blog post and has the following columns:\n",
    "\n",
    "* `postId`: the ID of the post record in Techcrunch.\n",
    "* `title`: the title of the blog post.\n",
    "* `author`: the name of the blogger who authored the post.\n",
    "* `authorId`: the ID of the blogger who authored the post.\n",
    "* `comments`: the number of comments of the blog post.\n",
    "* `content`: the full text of the blog post.\n",
    "* `url`: the URL of the blog post.\n",
    "* `date`: the publication date of the blog post.\n",
    "* `inlinks`: the number of incoming links to this blogpost.\n",
    "\n",
    "Dataset source: [https://www.kaggle.com/datasets/lakritidis/identifying-influential-bloggers-techcrunch](https://www.kaggle.com/datasets/lakritidis/identifying-influential-bloggers-techcrunch)\n"
   ]
  },
  {
   "cell_type": "code",
   "execution_count": 1,
   "id": "90f48475",
   "metadata": {},
   "outputs": [
    {
     "name": "stderr",
     "output_type": "stream",
     "text": [
      "25/07/28 14:29:26 WARN Utils: Your hostname, BDCC resolves to a loopback address: 127.0.1.1; using 10.0.2.15 instead (on interface enp0s3)\n",
      "25/07/28 14:29:26 WARN Utils: Set SPARK_LOCAL_IP if you need to bind to another address\n",
      "Setting default log level to \"WARN\".\n",
      "To adjust logging level use sc.setLogLevel(newLevel). For SparkR, use setLogLevel(newLevel).\n",
      "25/07/28 14:29:28 WARN NativeCodeLoader: Unable to load native-hadoop library for your platform... using builtin-java classes where applicable\n",
      "                                                                                \r"
     ]
    },
    {
     "name": "stdout",
     "output_type": "stream",
     "text": [
      "+------+--------------------+-----------------+--------+--------+--------------------+--------------------+----------+-------+\n",
      "|postId|               title|           author|authorId|comments|             content|                 url|      date|inlinks|\n",
      "+------+--------------------+-----------------+--------+--------+--------------------+--------------------+----------+-------+\n",
      "|     1|We Just Tested Tw...|    Jason Kincaid|       1|      14|During his keynot...|http://techcrunch...|2010-04-01|      0|\n",
      "|     2|Facebook To Launc...|    Jason Kincaid|       1|      30|Later this month ...|http://techcrunch...|2010-04-01|      0|\n",
      "|     3|NYTimes Request C...|Michael Arrington|       2|      38|A NYTimes communi...|http://techcrunch...|2010-04-01|      4|\n",
      "|     4|Google Shows How ...|  Erick Schonfeld|       3|      26|A lot of attentio...|http://techcrunch...|2010-04-01|     10|\n",
      "|     5|The iPad: Apple&#...|       John Biggs|       4|      49|Something struck ...|http://www.crunch...|2010-04-01|      1|\n",
      "|     6|Blippy Does An En...|    Jason Kincaid|       1|      13|Early this year, ...|http://techcrunch...|2010-04-01|      1|\n",
      "|     7|FreshPlanet Debut...|  Erick Schonfeld|       3|       5|If you are going ...|http://techcrunch...|2010-04-01|      1|\n",
      "|     8|Twitter Tweaks Se...|       MG Siegler|       5|       3|As you may have n...|http://techcrunch...|2010-04-01|      0|\n",
      "|     9|Behind The Scenes...|    Jason Kincaid|       1|       8|Today, millions o...|http://techcrunch...|2010-04-01|      2|\n",
      "|    10|The App Store Is ...|       MG Siegler|       5|      36|Have you been doi...|http://techcrunch...|2010-04-01|      0|\n",
      "+------+--------------------+-----------------+--------+--------+--------------------+--------------------+----------+-------+\n",
      "only showing top 10 rows\n",
      "\n"
     ]
    }
   ],
   "source": [
    "# Read the input file here\n",
    "import os\n",
    "import pyspark\n",
    "from pyspark.sql import SQLContext, SparkSession\n",
    "# Import functions as alias\n",
    "from pyspark.sql import functions as F\n",
    "import warnings\n",
    "warnings.filterwarnings('ignore')\n",
    "\n",
    "sc = SparkSession \\\n",
    "        .builder \\\n",
    "        .master('local[4]') \\\n",
    "        .appName(\"IHU_Spark_Standalone_TestApp\") \\\n",
    "        .getOrCreate()\n",
    "\n",
    "df = sc.read.option('delimiter', ',').option('header', 'true')\\\n",
    "    .csv(\"file://////home/hadoop/Documents/notebooks/Assignment2/BDCC_2025_Assignment2/techcrunch_posts.csv\")\n",
    "\n",
    "df.show(10)"
   ]
  },
  {
   "attachments": {},
   "cell_type": "markdown",
   "id": "05e79057",
   "metadata": {},
   "source": [
    "### Task 1.1\n",
    "Find the most active dates in number of submitted posts. Return a list with the publication dates ordered in reverse order of number of submitted posts.\n"
   ]
  },
  {
   "cell_type": "code",
   "execution_count": 4,
   "id": "81fe2a0d",
   "metadata": {},
   "outputs": [
    {
     "name": "stderr",
     "output_type": "stream",
     "text": [
      "[Stage 2:==============>                                            (1 + 3) / 4]\r"
     ]
    },
    {
     "name": "stdout",
     "output_type": "stream",
     "text": [
      "+----------+-----+\n",
      "|      date|count|\n",
      "+----------+-----+\n",
      "|2009-09-14|   51|\n",
      "|2009-09-15|   49|\n",
      "|2009-09-09|   42|\n",
      "|2009-10-13|   42|\n",
      "|2009-06-24|   42|\n",
      "+----------+-----+\n",
      "only showing top 5 rows\n",
      "\n"
     ]
    },
    {
     "name": "stderr",
     "output_type": "stream",
     "text": [
      "                                                                                \r"
     ]
    }
   ],
   "source": [
    "# First we aggregate the dates by counting their appearances\n",
    "df11 = df.groupBy(\"date\").count()\n",
    "# We sort the dates and their counts in descending order and print the result\n",
    "df11.orderBy(\"count\", ascending=False).show(5)"
   ]
  },
  {
   "attachments": {},
   "cell_type": "markdown",
   "id": "e9317d75",
   "metadata": {},
   "source": [
    "### Task 1.2\n",
    "\n",
    "Find the most cited authors. Return a list with the authors ordered in reverse order of citations.\n",
    "\n"
   ]
  },
  {
   "cell_type": "code",
   "execution_count": 8,
   "id": "049e0276",
   "metadata": {},
   "outputs": [
    {
     "name": "stderr",
     "output_type": "stream",
     "text": [
      "[Stage 5:==============>                                            (1 + 3) / 4]\r"
     ]
    },
    {
     "name": "stdout",
     "output_type": "stream",
     "text": [
      "+-----------------+---------+\n",
      "|           author|citations|\n",
      "+-----------------+---------+\n",
      "|Michael Arrington|  86919.0|\n",
      "|  Erick Schonfeld|  28430.0|\n",
      "|       MG Siegler|  15208.0|\n",
      "|    Jason Kincaid|  14409.0|\n",
      "|     Duncan Riley|  11626.0|\n",
      "+-----------------+---------+\n",
      "only showing top 5 rows\n",
      "\n"
     ]
    },
    {
     "name": "stderr",
     "output_type": "stream",
     "text": [
      "                                                                                \r"
     ]
    }
   ],
   "source": [
    "from pyspark.sql.functions import sum, col\n",
    "\n",
    "# First we aggregate the authors by counting their citations\n",
    "df12 = df.groupBy(\"author\").agg(sum(col('inlinks')).alias('citations'))\n",
    "# We sort the authors and their total citations in descending order and print the result\n",
    "df12.orderBy(\"citations\", ascending=False).show(5)"
   ]
  },
  {
   "attachments": {},
   "cell_type": "markdown",
   "id": "e3da0d45",
   "metadata": {},
   "source": [
    "### Task 1.3\n",
    "\n",
    "Compute the average length (in words) of the blog posts per author. Return a list with the authors and the average post length (in words).\n",
    "\n",
    "Sort the output in decreasing post length order. The top record shows the author that on average, publishes the longer posts."
   ]
  },
  {
   "cell_type": "code",
   "execution_count": 10,
   "id": "adcb91f9",
   "metadata": {},
   "outputs": [
    {
     "name": "stderr",
     "output_type": "stream",
     "text": [
      "[Stage 8:==============>                                            (1 + 3) / 4]\r"
     ]
    },
    {
     "name": "stdout",
     "output_type": "stream",
     "text": [
      "+-----------------+--------------+\n",
      "|           author|avg_word_count|\n",
      "+-----------------+--------------+\n",
      "|TechCrunch Europe|        2457.0|\n",
      "|      Orli Yakuel|        1901.5|\n",
      "|     Eric Clemons|        1562.0|\n",
      "|      Brian Solis|        1540.0|\n",
      "|         Susan Wu|        1453.0|\n",
      "+-----------------+--------------+\n",
      "only showing top 5 rows\n",
      "\n"
     ]
    },
    {
     "name": "stderr",
     "output_type": "stream",
     "text": [
      "                                                                                \r"
     ]
    }
   ],
   "source": [
    "# Write the code for task 1.3 here\n",
    "from pyspark.sql.functions import avg, size, split, col, round\n",
    "# We group authors by the average length of their posts\n",
    "df13 = df.groupBy(\"author\").agg(avg(size(split(col(\"content\"), ' '))).alias(\"avg_word_count\"))\n",
    "# We round the lengths to 1 decimal point\n",
    "df13_new = df13.withColumn('avg_word_count', round(df13.avg_word_count, 1))\n",
    "# We sort the lengths and authors in descending order\n",
    "df13_new.orderBy(\"avg_word_count\", ascending=False).show(5)"
   ]
  },
  {
   "attachments": {},
   "cell_type": "markdown",
   "id": "23cf9879",
   "metadata": {},
   "source": [
    "### Task 1.4\n",
    "Compute the h-index of the authors.\n",
    "\n",
    "**$h$-index definition:** An author has an $h$-index equal to $h$, if $h$ of his/her $N$ blog posts have at least $h$ inlinks each and the other $(N – h)$ blog posts have $\\leq h$ citations each. For instance, an $h$-index of 17 means that the blogger has authored at least 17 posts that have each been cited at least 17 times. If the bloggers's 18th most cited post was cited only 17 times, then the $h$-index will remain at 17. If the bloggers's 18th most cited publication was cited 18 or more times, the $h$-index would rise to 18.\n"
   ]
  },
  {
   "cell_type": "code",
   "execution_count": 53,
   "id": "26da78dd",
   "metadata": {},
   "outputs": [
    {
     "name": "stderr",
     "output_type": "stream",
     "text": [
      "[Stage 57:==============>                                           (1 + 3) / 4]\r"
     ]
    },
    {
     "name": "stdout",
     "output_type": "stream",
     "text": [
      "+-----------------+-------+\n",
      "|           author|h_index|\n",
      "+-----------------+-------+\n",
      "|Michael Arrington|   4902|\n",
      "|       Sarah Lacy|     89|\n",
      "|           tcnikc|     81|\n",
      "|    Jason Kincaid|     79|\n",
      "|    Steve Gillmor|     70|\n",
      "|       MG Siegler|     63|\n",
      "|       Matt Burns|     57|\n",
      "|     Mike Butcher|     54|\n",
      "|    Robin Wauters|     53|\n",
      "|    Greg Kumparak|     52|\n",
      "+-----------------+-------+\n",
      "only showing top 10 rows\n",
      "\n"
     ]
    },
    {
     "name": "stderr",
     "output_type": "stream",
     "text": [
      "                                                                                \r"
     ]
    }
   ],
   "source": [
    "# Write the code for task 1.4 here\n",
    "from pyspark.sql import Window\n",
    "from pyspark.sql.functions import col, row_number, desc, max as spark_max\n",
    "\n",
    "\n",
    "# Groups rows by author and sorts the count of citations in descending order within each author partition\n",
    "window = Window.partitionBy(author_col).orderBy(col(citation_col).desc())\n",
    "# window function enables computations per author without splitting the df manually\n",
    "\n",
    "# Add index to each partition(window), starting from 0. The highest citation for each author has value 0\n",
    "df_with_idx = df.withColumn(\"idx\", row_number().over(window) - 1)\n",
    "\n",
    "# For each paper, check if citation > index\n",
    "# if paper at idx = 2 has inlinks > 2, then it is valid for 2-index rank\n",
    "df_valid = df_with_idx.withColumn(\"valid\", col(citation_col) > col(\"idx\"))\n",
    "\n",
    "# Filter only valid rows (citation > idx)\n",
    "df_filtered = df_valid.filter(col(\"valid\"))\n",
    "\n",
    "# H-index is the max idx + 1\n",
    "h_index_df = df_filtered.groupBy(author_col).agg(\n",
    "    spark_max(\"idx\").alias(\"h_index_minus_1\")\n",
    ").withColumn(\"h_index\", col(\"h_index_minus_1\") + 1).drop(\"h_index_minus_1\")\n",
    "\n",
    "\n",
    "h_index_df.orderBy(\"h_index\", ascending=False).show(10)"
   ]
  },
  {
   "cell_type": "markdown",
   "id": "a1431974",
   "metadata": {},
   "source": [
    "## Task 2 - Car Prices analysis\n",
    "\n",
    "You are given the `car_prices.csv` input file. It is a Comma Separated Values (CSV) file that provides information pertaining to the sales transactions of various vehicles. The dataset comprises 558837 rows and 16 columns and occupies around 85 MB.\n",
    "\n",
    "Each row denotes a car sale. The columns represent:\n",
    "\n",
    "1. `year`: The manufacturing year of the vehicle.\n",
    "2. `make`: The brand or manufacturer of the vehicle.\n",
    "3. `model`: The specific model of the vehicle.\n",
    "4. `trim`: Additional designation for the vehicle model.\n",
    "5. `body`: The body type of the vehicle (e.g., SUV, Sedan).\n",
    "6. `transmission`: The type of transmission in the vehicle (e.g., automatic).\n",
    "7. `vin`: Vehicle Identification Number, a unique code for each vehicle.\n",
    "8. `state`: The state where the vehicle is registered.\n",
    "9. `condition`: Condition of the vehicle, possibly rated on a scale.\n",
    "10. `odometer`: The mileage or distance traveled by the vehicle.\n",
    "11. `color`: Exterior color of the vehicle.\n",
    "12. `interior`: Interior color of the vehicle.\n",
    "13. `seller`: The entity selling the vehicle.\n",
    "14. `mmr`: Manheim Market Report, possibly indicating the estimated market value of the vehicle.\n",
    "15. `sellingprice`: The price at which the vehicle was sold.\n",
    "16. `saledate`: The date and time when the vehicle was sold.\n",
    "\n",
    "Dataset source: [https://www.kaggle.com/datasets/syedanwarafridi/vehicle-sales-data](https://www.kaggle.com/datasets/syedanwarafridi/vehicle-sales-data)\n",
    "\n",
    "Similarly to almost all real-world datasets, this one has several data quality issues. One of these issues has to do with missing values. Therefore, there might be missing dates, brands, prices, colors, etc. Imputing missing values is out of the scope of this assignment. Consequently, in **all**  implementations, you **you must ignore all the rows that have missing values on columns 1, 2, 10, 11, 12, 15, and 16.** Fortunately, only a small portion of the records is going to be lost with this strategy.\n"
   ]
  },
  {
   "cell_type": "code",
   "execution_count": 90,
   "id": "8be01ab2",
   "metadata": {},
   "outputs": [
    {
     "name": "stdout",
     "output_type": "stream",
     "text": [
      "+----+---------+-------------------+--------------------+-----------+---------+-----------------+---+---+-----+-----+-----+--------------------+-----+-----+--------------------+\n",
      "| _c0|      _c1|                _c2|                 _c3|        _c4|      _c5|              _c6|_c7|_c8|  _c9| _c10| _c11|                _c12| _c13| _c14|                _c15|\n",
      "+----+---------+-------------------+--------------------+-----------+---------+-----------------+---+---+-----+-----+-----+--------------------+-----+-----+--------------------+\n",
      "|2015|      Kia|            Sorento|                  LX|        SUV|automatic|5xyktca69fg566472| ca|  5|16639|white|black|kia motors americ...|20500|21500|Tue Dec 16 2014 1...|\n",
      "|2015|      Kia|            Sorento|                  LX|        SUV|automatic|5xyktca69fg561319| ca|  5| 9393|white|beige|kia motors americ...|20800|21500|Tue Dec 16 2014 1...|\n",
      "|2014|      BMW|           3 Series|          328i SULEV|      Sedan|automatic|wba3c1c51ek116351| ca| 45| 1331| gray|black|financial service...|31900|30000|Thu Jan 15 2015 0...|\n",
      "|2015|    Volvo|                S60|                  T5|      Sedan|automatic|yv1612tb4f1310987| ca| 41|14282|white|black|volvo na rep/worl...|27500|27750|Thu Jan 29 2015 0...|\n",
      "|2014|      BMW|6 Series Gran Coupe|                650i|      Sedan|automatic|wba6b2c57ed129731| ca| 43| 2641| gray|black|financial service...|66000|67000|Thu Dec 18 2014 1...|\n",
      "|2015|   Nissan|             Altima|               2.5 S|      Sedan|automatic|1n4al3ap1fn326013| ca|  1| 5554| gray|black|enterprise vehicl...|15350|10900|Tue Dec 30 2014 1...|\n",
      "|2014|      BMW|                 M5|                Base|      Sedan|automatic|wbsfv9c51ed593089| ca| 34|14943|black|black|the hertz corpora...|69000|65000|Wed Dec 17 2014 1...|\n",
      "|2014|Chevrolet|              Cruze|                 1LT|      Sedan|automatic|1g1pc5sb2e7128460| ca|  2|28617|black|black|enterprise vehicl...|11900| 9800|Tue Dec 16 2014 1...|\n",
      "|2014|     Audi|                 A4|2.0T Premium Plus...|      Sedan|automatic|wauffafl3en030343| ca| 42| 9557|white|black|  audi mission viejo|32100|32250|Thu Dec 18 2014 1...|\n",
      "|2014|Chevrolet|             Camaro|                  LT|Convertible|automatic|2g1fb3d37e9218789| ca|  3| 4809|  red|black|  d/m auto sales inc|26300|17500|Tue Jan 20 2015 0...|\n",
      "+----+---------+-------------------+--------------------+-----------+---------+-----------------+---+---+-----+-----+-----+--------------------+-----+-----+--------------------+\n",
      "only showing top 10 rows\n",
      "\n"
     ]
    }
   ],
   "source": [
    "# Read the input file here\n",
    "df2 = sc.read.option('delimiter', ',').option('header', 'false')\\\n",
    "    .csv(\"file://////home/hadoop/Documents/notebooks/Assignment2/BDCC_2025_Assignment2/car_prices.csv\")\n",
    "# Dropping empy values in specified columns\n",
    "cardf = df2.na.drop(subset=['_c0', '_c1', '_c9', '_c10', '_c11', '_c14', '_c15'])\n",
    "\n",
    "cardf.show(10)"
   ]
  },
  {
   "attachments": {},
   "cell_type": "markdown",
   "id": "60c6755a",
   "metadata": {},
   "source": [
    "### Task 2.1: Compute Yearly Statistics\n",
    "\n",
    "In this task we are interested in computing yearly statistics about car sales. In particular, you will write a MapReduce task that computes the:\n",
    "\n",
    "* number of vehicles per year,\n",
    "* total value of the sold cars per year,\n",
    "* average distance travelled by the sold cars per year and\n",
    "* average age of the sold cars per year.\n"
   ]
  },
  {
   "cell_type": "code",
   "execution_count": 99,
   "id": "fbd9dab3",
   "metadata": {},
   "outputs": [
    {
     "name": "stderr",
     "output_type": "stream",
     "text": [
      "[Stage 90:=============================>                            (2 + 2) / 4]\r"
     ]
    },
    {
     "name": "stdout",
     "output_type": "stream",
     "text": [
      "+----+------+-------------+-----------------+-----------------+\n",
      "|year| count|  total_value|          avg_dst|          avg_age|\n",
      "+----+------+-------------+-----------------+-----------------+\n",
      "|2014| 36763| 4.67477709E8|71508.12972281914|4.376628675570546|\n",
      "|2015|435562|5.998893399E9| 66296.0547820976|4.739424008522323|\n",
      "+----+------+-------------+-----------------+-----------------+\n",
      "\n"
     ]
    },
    {
     "name": "stderr",
     "output_type": "stream",
     "text": [
      "                                                                                \r"
     ]
    }
   ],
   "source": [
    "# Write the code for task 2.1 here\n",
    "\n",
    "from pyspark.sql.functions import avg, count, col, sum, year, substring, to_timestamp\n",
    "\n",
    "# First column = manufacturing year, last column = sale date\n",
    "# We change last column to timestamp and then extract the year\n",
    "cardf = cardf.withColumn(\"year\", year(to_timestamp(substring(\"_c15\", 5, 100), \"MMM dd yyyy HH:mm:ss 'GMT'Z (z)\")))\n",
    "# Changing manuf. year from string to integer\n",
    "cardf = cardf.withColumn(\"_c0\", col(\"_c0\").cast(\"integer\"))\n",
    "# Subtracting manufacturing year from sale year to determine age of each car\n",
    "cardf = cardf.withColumn(\"year_diff\", col(\"year\") - col(\"_c0\"))\n",
    "# changing distance travelled column from string to integer\n",
    "cardf = cardf.withColumn(\"_c9\", col(\"_c9\").cast(\"integer\"))\n",
    "# dropping null values\n",
    "cardf = cardf.na.drop()\n",
    "\n",
    "# aggregating results by the year of sale we extracted previously\n",
    "df21 = cardf.groupBy(\"year\").agg( count(\"*\").alias(\"count\"),\n",
    "                                sum('_c14').alias(\"total_value\"),\n",
    "                                avg('_c9').alias(\"avg_dst\"),\n",
    "                                avg('year_diff').alias(\"avg_age\")\n",
    "                             )\n",
    "\n",
    "df21.orderBy(\"year\").show()"
   ]
  },
  {
   "attachments": {
    "580c384f-8fda-44db-9641-e7a75c992ef8.png": {
     "image/png": "[encoded data removed]"
    }
   },
   "cell_type": "markdown",
   "id": "16e9c042",
   "metadata": {},
   "source": [
    "### Task 2.2: Compute Yearly Statistics per Brand\n",
    "\n",
    "In this task we are interested in the performance of the car sales **per brand, in a yearly fashion**. In fact, the task will compute the same statistics as those of Task 1, but also groupped by brand. More specifically, we are interested in computing the:\n",
    "\n",
    "* number of vehicles per year, per brand,\n",
    "* total value of the sold cars per year, per brand,\n",
    "* average distance travelled by the sold cars per year, per brand and\n",
    "* average age of the sold cars per year per brand.\n",
    "\n",
    "Sort the output by brand, then by year.\n",
    "\n",
    "Example output:\n",
    "\n",
    "![εικόνα.png](attachment:580c384f-8fda-44db-9641-e7a75c992ef8.png)\n"
   ]
  },
  {
   "cell_type": "code",
   "execution_count": 102,
   "id": "c7769f93",
   "metadata": {},
   "outputs": [
    {
     "name": "stderr",
     "output_type": "stream",
     "text": [
      "[Stage 99:===========================================>              (3 + 1) / 4]\r"
     ]
    },
    {
     "name": "stdout",
     "output_type": "stream",
     "text": [
      "+----+------------+-----+------------+------------------+-----------------+\n",
      "|year|         _c1|count| total_value|           avg_dst|          avg_age|\n",
      "+----+------------+-----+------------+------------------+-----------------+\n",
      "|2015|       Acura| 4042| 5.2376125E7| 94399.05764473033|7.165017318159327|\n",
      "|2014|       Acura|  461|   6634700.0| 81491.62689804772|5.357917570498915|\n",
      "|2015|Aston Martin|   24|   1332000.0|23966.833333333332|7.416666666666667|\n",
      "|2014|        Audi|  406|   7775700.0| 68410.91379310345| 5.04679802955665|\n",
      "|2015|        Audi| 4396| 8.8313125E7|65142.901501364875|5.537989080982712|\n",
      "|2015|         BMW|15969|3.40380823E8| 64183.30891101509|5.552445362890601|\n",
      "|2014|         BMW| 1540| 3.2386555E7| 64026.82467532468|4.837012987012987|\n",
      "|2015|     Bentley|   88|   6511950.0|37884.568181818184|7.045454545454546|\n",
      "|2014|     Bentley|   17|   1122950.0|50915.529411764706|6.764705882352941|\n",
      "|2014|       Buick|  334|   2901425.0| 86385.24251497006|6.931137724550898|\n",
      "|2015|       Buick| 4136| 4.4427749E7| 79427.31866537717|6.557301740812379|\n",
      "|2014|    Cadillac|  540|   6935349.0|  85048.3462962963|6.609259259259259|\n",
      "|2015|    Cadillac| 5775| 8.6104802E7| 84984.41887445888|7.058181818181819|\n",
      "|2015|   Chevrolet|49838|5.98268073E8| 76640.12655002208|4.878606685661543|\n",
      "|2014|   Chevrolet| 4312| 4.4287222E7| 85672.29383116883|4.717532467532467|\n",
      "|2014|    Chrysler| 1132|   9405300.0| 80709.21819787986|4.837455830388692|\n",
      "|2015|    Chrysler|14001|1.51414421E8| 66445.24619670023|4.546532390543533|\n",
      "|2015|      Daewoo|    2|       900.0|           70104.5|             14.0|\n",
      "|2014|       Dodge| 2117| 1.9987435E7|  80527.6192725555|4.280113367973548|\n",
      "|2015|       Dodge|25064|2.78019459E8| 72261.47530322375|4.497366741142675|\n",
      "+----+------------+-----+------------+------------------+-----------------+\n",
      "only showing top 20 rows\n",
      "\n"
     ]
    },
    {
     "name": "stderr",
     "output_type": "stream",
     "text": [
      "                                                                                \r"
     ]
    }
   ],
   "source": [
    "# Write the code for task 2.2 here\n",
    "\n",
    "# aggregating results by the year of sale we extracted previously and by the car brand column\n",
    "df22 = cardf.groupBy(\"year\", \"_c1\").agg( count(\"*\").alias(\"count\"),\n",
    "                                sum('_c14').alias(\"total_value\"),\n",
    "                                avg('_c9').alias(\"avg_dst\"),\n",
    "                                avg('year_diff').alias(\"avg_age\")\n",
    "                             )\n",
    "# sorting by brand alphabetically\n",
    "df22.orderBy(\"_c1\", ascending=True).show()"
   ]
  },
  {
   "attachments": {
    "43de847e-5c2d-4adc-8960-99fc62755a82.png": {
     "image/png": "[encoded data removed]"
    }
   },
   "cell_type": "markdown",
   "id": "0dcda076",
   "metadata": {},
   "source": [
    "### Task 2.3: Large-scale analytics: Feature Exploration\n",
    "\n",
    "In this task we will perform a part of what is called feature exploration. Feature exploration focuses on quantifying the impact of a particular feature on the target variable. While such analyses typically include all features, in this example we are only interested in finding out how the (exterior) color of a car affects its sales. More specifically, we need to compute:\n",
    "\n",
    "* number of vehicles per (exterior) color, and\n",
    "* the total value of the sold cars per color.\n",
    "\n",
    "Sort the output in reverse number of sales.\n",
    "\n",
    "Example output:\n",
    "\n",
    "![εικόνα.png](attachment:43de847e-5c2d-4adc-8960-99fc62755a82.png)\n"
   ]
  },
  {
   "cell_type": "code",
   "execution_count": 104,
   "id": "21b5aaf5",
   "metadata": {},
   "outputs": [
    {
     "name": "stderr",
     "output_type": "stream",
     "text": [
      "[Stage 105:==========================================>              (3 + 1) / 4]\r"
     ]
    },
    {
     "name": "stdout",
     "output_type": "stream",
     "text": [
      "+---------+-----+-------------+\n",
      "|     _c10|count|  total_value|\n",
      "+---------+-----+-------------+\n",
      "|    black|93244|1.442866834E9|\n",
      "|    white|89233|1.326318247E9|\n",
      "|   silver|71251| 8.44105904E8|\n",
      "|     gray|70640| 9.85882549E8|\n",
      "|     blue|43060| 4.97335254E8|\n",
      "|      red|37336| 4.81549366E8|\n",
      "|        —|22068| 3.93348864E8|\n",
      "|     gold| 9563|  8.2450307E7|\n",
      "|    green| 9234|  8.1264961E7|\n",
      "| burgundy| 7605|  9.2155066E7|\n",
      "|    beige| 7444|  7.0893993E7|\n",
      "|    brown| 5621|  8.7304137E7|\n",
      "|   orange| 1763|  2.3098988E7|\n",
      "|   purple| 1270|  1.5593103E7|\n",
      "|off-white| 1244|  1.9126002E7|\n",
      "|   yellow| 1079|   1.379158E7|\n",
      "| charcoal|  429|    6973851.0|\n",
      "|turquoise|  190|    1675102.0|\n",
      "|     pink|   39|     484150.0|\n",
      "|     lime|   12|     152850.0|\n",
      "+---------+-----+-------------+\n",
      "\n"
     ]
    },
    {
     "name": "stderr",
     "output_type": "stream",
     "text": [
      "                                                                                \r"
     ]
    }
   ],
   "source": [
    "# Write the code for task 2.3 here\n",
    "\n",
    "# aggregating results by the color column\n",
    "df23 = cardf.groupBy(\"_c10\").agg( count(\"*\").alias(\"count\"),\n",
    "                                sum('_c14').alias(\"total_value\")\n",
    "                             )\n",
    "# sorting by number of sales descending\n",
    "df23.orderBy(\"count\", ascending=False).show()"
   ]
  },
  {
   "attachments": {
    "6a588ae6-6994-4293-ba33-1ddea39977de.png": {
     "image/png": "[encoded data removed]"
    }
   },
   "cell_type": "markdown",
   "id": "ee6f5281",
   "metadata": {},
   "source": [
    "### Task 2.4: Exploratory Analysis\n",
    "\n",
    "In this task we will perform a part of what is called exploratory analysis. This process applies unsupervised techniques to a data collection with the aim of discovering potentially useful information. In this example we are interested in finding out the combination of exterior and interior colors that sells most. More specifically, we need to compute:\n",
    "\n",
    "* the number of vehicles per pair of exterior/interior color.\n",
    "\n",
    "Sort the output in reverse number of sales.\n",
    "\n",
    "Example output:\n",
    "\n",
    "![εικόνα.png](attachment:6a588ae6-6994-4293-ba33-1ddea39977de.png)"
   ]
  },
  {
   "cell_type": "code",
   "execution_count": 105,
   "id": "0cf81c0e",
   "metadata": {},
   "outputs": [
    {
     "name": "stderr",
     "output_type": "stream",
     "text": [
      "[Stage 108:============================>                            (2 + 2) / 4]\r"
     ]
    },
    {
     "name": "stdout",
     "output_type": "stream",
     "text": [
      "+------+-----+-----+------------+\n",
      "|  _c10| _c11|count| total_value|\n",
      "+------+-----+-----+------------+\n",
      "| black|black|52071|8.89493575E8|\n",
      "|  gray|black|35497|5.49465276E8|\n",
      "|silver|black|34788|4.73367382E8|\n",
      "| white|black|31681|5.25649421E8|\n",
      "|silver| gray|30172|2.96175291E8|\n",
      "| white| gray|29900| 3.7716941E8|\n",
      "|  gray| gray|26178|3.04428046E8|\n",
      "| black| gray|22443|2.62677727E8|\n",
      "|  blue| gray|17126|1.62632283E8|\n",
      "|   red|black|16487|2.40963558E8|\n",
      "|  blue|black|15935| 2.1237056E8|\n",
      "| white|beige|13096|1.96860904E8|\n",
      "|   red| gray|10963|1.16273655E8|\n",
      "|     —|black|10850|1.98561461E8|\n",
      "| white|  tan| 9553|1.34917825E8|\n",
      "| black|beige| 8174|1.19685624E8|\n",
      "| black|  tan| 6175| 8.6949929E7|\n",
      "|     —| gray| 6022| 9.5316176E7|\n",
      "|   red|beige| 4882| 6.2724225E7|\n",
      "|  blue|beige| 4537| 5.7452082E7|\n",
      "+------+-----+-----+------------+\n",
      "only showing top 20 rows\n",
      "\n"
     ]
    },
    {
     "name": "stderr",
     "output_type": "stream",
     "text": [
      "                                                                                \r"
     ]
    }
   ],
   "source": [
    "# Write the code for task 2.4 here\n",
    "\n",
    "# aggregating results by the color column and interior column\n",
    "df24 = cardf.groupBy(\"_c10\", \"_c11\").agg( count(\"*\").alias(\"count\"),\n",
    "                                sum('_c14').alias(\"total_value\")\n",
    "                             )\n",
    "# sorting by number of sales descending\n",
    "df24.orderBy(\"count\", ascending=False).show()"
   ]
  }
 ],
 "metadata": {
  "kernelspec": {
   "display_name": "Python 3 (ipykernel)",
   "language": "python",
   "name": "python3"
  },
  "language_info": {
   "codemirror_mode": {
    "name": "ipython",
    "version": 3
   },
   "file_extension": ".py",
   "mimetype": "text/x-python",
   "name": "python",
   "nbconvert_exporter": "python",
   "pygments_lexer": "ipython3",
   "version": "3.11.5"
  }
 },
 "nbformat": 4,
 "nbformat_minor": 5
}
